{
 "cells": [
  {
   "cell_type": "code",
   "execution_count": 9,
   "metadata": {
    "collapsed": false
   },
   "outputs": [
    {
     "name": "stdout",
     "output_type": "stream",
     "text": [
      "The autoreload extension is already loaded. To reload it, use:\n",
      "  %reload_ext autoreload\n"
     ]
    }
   ],
   "source": [
    "# This is a bit of magic to make matplotlib figures appear inline in the notebook\n",
    "%matplotlib inline\n",
    "plt.rcParams['figure.figsize'] = (10.0, 10.0) # set default size of plots\n",
    "plt.rcParams['image.interpolation'] = 'none'\n",
    "plt.rcParams['image.cmap'] = 'gray'\n",
    "\n",
    "# Some more magic so that the notebook will reload external python modules;\n",
    "%qtconsole\n",
    "%load_ext autoreload\n",
    "%autoreload"
   ]
  },
  {
   "cell_type": "code",
   "execution_count": 2,
   "metadata": {
    "collapsed": true
   },
   "outputs": [],
   "source": [
    "import csv\n",
    "import numpy as np\n",
    "import matplotlib.pyplot as plt\n",
    "import bresenham\n",
    "from skimage.morphology import dilation, square\n",
    "import scipy\n",
    "import scipy.io"
   ]
  },
  {
   "cell_type": "code",
   "execution_count": 3,
   "metadata": {
    "collapsed": true
   },
   "outputs": [],
   "source": [
    "def read_file(filename, delimiter=' ', skip=()):\n",
    "    points = {'x' : [], 'y': [], 'p': []}\n",
    "    if(filename.endswith('.HWR')):\n",
    "        with open(filename) as csvfile:\n",
    "            reader = csv.reader(csvfile, delimiter=delimiter)\n",
    "\n",
    "            # ignore two first lines\n",
    "            # reader.next()\n",
    "            # reader.next()\n",
    "            for r in reader:\n",
    "                row = [ x for x in r if x.isdigit() ]\n",
    "                points['x'].append(row[0])\n",
    "                points['y'].append(row[1])\n",
    "                points['p'].append(row[2])\n",
    "\n",
    "    elif (filename.endswith('.mat')):\n",
    "\n",
    "        mat = scipy.io.loadmat(filename)\n",
    "        points['x'] = mat['x'].flatten()\n",
    "        points['y'] = mat['y'].flatten()\n",
    "        points['p'] = mat['p'].flatten()\n",
    "\n",
    "\n",
    "    return points"
   ]
  },
  {
   "cell_type": "code",
   "execution_count": 4,
   "metadata": {
    "collapsed": false
   },
   "outputs": [],
   "source": [
    "points = read_file('dataset/u1001s0001_sg0001.mat')\n",
    "rtab = 2540.0\n",
    "# rscan = 400.0 # for Sigcomp\n",
    "rscan = 600.0 # for Biosecurid\n",
    "\n",
    "# frequency_rate = 200.0 # 200 Hz for sigcomp\n",
    "\n",
    "frequency_rate = 100.0 # 100 Hz for biosecurid\n",
    "\n",
    "factor = rscan / rtab\n",
    "\n",
    "xs = np.array(points['x']).astype('int') * factor\n",
    "ys = np.array(points['y']).astype('int') * factor\n",
    "p  = np.array(points['p']).astype('int')\n",
    "size = len(xs)\n",
    "\n",
    "period = 1 / frequency_rate\n",
    "total_time = size * period\n",
    "\n",
    "time = np.arange(0, total_time, period)\n",
    "\n",
    "speed = []\n",
    "\n",
    "for i in range(size-1):\n",
    "    x_i = xs[i]\n",
    "    y_i = ys[i]\n",
    "    x_i1 = xs[i+1]\n",
    "    y_i1 = ys[i+1]\n",
    "\n",
    "    t_i = time[i]\n",
    "    t_i1 = time[i+1]\n",
    "\n",
    "    sx = x_i1 - x_i\n",
    "    sy = y_i1 - y_i\n",
    "\n",
    "    st = (t_i1 - t_i)\n",
    "    vx = sx / st\n",
    "    vy = sy / st\n",
    "\n",
    "    speed.append((vx, vy))\n",
    "    \n",
    "speed.append(speed[size-2])\n",
    "\n",
    "h = int(xs.max()) + 1\n",
    "w = int(ys.max()) + 1\n",
    "\n",
    "\n",
    "img_s = np.zeros((w, h))\n",
    "img_spu = np.zeros((w, h))"
   ]
  },
  {
   "cell_type": "code",
   "execution_count": 5,
   "metadata": {
    "collapsed": true
   },
   "outputs": [],
   "source": [
    "for i in range(size):\n",
    "        x = int(xs[i])\n",
    "        y = int(ys[i])\n",
    "\n",
    "        pixels = [(x, y)]\n",
    "\n",
    "        if i < size-1:\n",
    "            next_x = int(xs[i+1])\n",
    "            next_y = int(ys[i+1])\n",
    "            more_pixels = bresenham.get_line((x, y), (next_x, next_y))\n",
    "            for pixel in more_pixels:\n",
    "                pixels.append(pixel)\n",
    "\n",
    "        for pixel in pixels:\n",
    "            (xp, yp) = pixel\n",
    "\n",
    "            if p[i] == 0:\n",
    "                img_spu[yp, xp] = 1\n",
    "\n",
    "            elif p[i] > 0:\n",
    "                img_s[yp, xp] = 1"
   ]
  },
  {
   "cell_type": "code",
   "execution_count": 6,
   "metadata": {
    "collapsed": false
   },
   "outputs": [
    {
     "data": {
      "image/png": "[encoded data removed]",
      "text/plain": [
       "<matplotlib.figure.Figure at 0x7f45cd1f9090>"
      ]
     },
     "metadata": {},
     "output_type": "display_data"
    },
    {
     "data": {
      "image/png": "[encoded data removed]",
      "text/plain": [
       "<matplotlib.figure.Figure at 0x7f45cd1f9110>"
      ]
     },
     "metadata": {},
     "output_type": "display_data"
    }
   ],
   "source": [
    "non_empty = np.where(img_s > 0)\n",
    "cropBox = (min(non_empty[0]), max(non_empty[0]), min(non_empty[1]), max(non_empty[1]))\n",
    "img_new_s = img_s[cropBox[0]:cropBox[1]+1, cropBox[2]:cropBox[3]+1]\n",
    "img_new_spu = img_spu[cropBox[0]:cropBox[1]+1, cropBox[2]:cropBox[3]+1]\n",
    "img_new_s = np.flipud(img_new_s)\n",
    "img_new_spu = np.flipud(img_new_spu)\n",
    "\n",
    "\n",
    "scipy.misc.imsave('is.png', img_new_s)\n",
    "scipy.misc.imsave('ispu.png', img_new_spu)\n",
    "\n",
    "plt.imshow(img_new_s)\n",
    "plt.figure()\n",
    "plt.imshow(img_new_spu)\n",
    "plt.show()\n"
   ]
  },
  {
   "cell_type": "code",
   "execution_count": null,
   "metadata": {
    "collapsed": true
   },
   "outputs": [],
   "source": []
  },
  {
   "cell_type": "code",
   "execution_count": null,
   "metadata": {
    "collapsed": true
   },
   "outputs": [],
   "source": []
  }
 ],
 "metadata": {
  "kernelspec": {
   "display_name": "Python 2",
   "language": "python",
   "name": "python2"
  },
  "language_info": {
   "codemirror_mode": {
    "name": "ipython",
    "version": 2
   },
   "file_extension": ".py",
   "mimetype": "text/x-python",
   "name": "python",
   "nbconvert_exporter": "python",
   "pygments_lexer": "ipython2",
   "version": "2.7.6"
  }
 },
 "nbformat": 4,
 "nbformat_minor": 0
}
